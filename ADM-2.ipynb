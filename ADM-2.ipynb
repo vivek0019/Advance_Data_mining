{
 "cells": [
  {
   "cell_type": "code",
   "execution_count": 1,
   "id": "7608ec70",
   "metadata": {},
   "outputs": [],
   "source": [
    "from collections import defaultdict\n",
    "\n",
    "# Simplified transaction dataset\n",
    "transactions = [\n",
    "    ['B', 'E'],             # U100\n",
    "    ['D'],                  # U200\n",
    "    ['X'],                  # U300\n",
    "    ['W', 'O'],             # U400\n",
    "    ['B', 'E', 'D'],        # U500\n",
    "    ['B', 'D', 'X'],        # U600\n",
    "    ['E', 'X'],             # U700\n",
    "    ['X', 'W'],             # U800\n",
    "    ['B', 'E', 'W', 'O'],   # U900\n",
    "    ['D', 'W', 'O']         # U1000\n",
    "]"
   ]
  },
  {
   "cell_type": "code",
   "execution_count": 2,
   "id": "443cce51",
   "metadata": {},
   "outputs": [],
   "source": [
    "class SimpleApriori:\n",
    "    def __init__(self, min_support=0.2, min_confidence=0.5):\n",
    "        self.min_support = min_support\n",
    "        self.min_confidence = min_confidence\n",
    "        self.frequent_itemsets = {}\n",
    "        self.transaction_count = len(transactions)\n",
    "        self.rules = []\n",
    "\n",
    "    def _get_support(self, itemset):\n",
    "        \"\"\"Calculate the support for an itemset\"\"\"\n",
    "        count = sum(1 for transaction in transactions if set(itemset).issubset(set(transaction)))\n",
    "        return count / self.transaction_count\n",
    "\n",
    "    def find_frequent_itemsets(self):\n",
    "        \"\"\"Find frequent itemsets\"\"\"\n",
    "        # Initial pass to get 1-itemsets\n",
    "        C1 = defaultdict(int)\n",
    "        for transaction in transactions:\n",
    "            for item in transaction:\n",
    "                C1[item] += 1\n",
    "        \n",
    "        F1 = {tuple([item]): count for item, count in C1.items() \n",
    "              if count / self.transaction_count >= self.min_support}\n",
    "        self.frequent_itemsets[1] = F1\n",
    "\n",
    "        print(f\"Frequent 1-itemsets: {F1}\")\n",
    "\n",
    "        k = 2\n",
    "        while True:\n",
    "            # Generate candidate k-itemsets from F(k-1)\n",
    "            Fk_1 = list(self.frequent_itemsets[k-1].keys())\n",
    "            Ck = defaultdict(int)\n",
    "            for i in range(len(Fk_1)):\n",
    "                for j in range(i+1, len(Fk_1)):\n",
    "                    candidate = tuple(sorted(set(Fk_1[i]) | set(Fk_1[j])))\n",
    "                    if len(candidate) == k:\n",
    "                        Ck[candidate] = 0\n",
    "\n",
    "            # Calculate support for each candidate\n",
    "            for transaction in transactions:\n",
    "                transaction_set = set(transaction)\n",
    "                for candidate in Ck:\n",
    "                    if set(candidate).issubset(transaction_set):\n",
    "                        Ck[candidate] += 1\n",
    "\n",
    "            # Filter candidates by min_support\n",
    "            Fk = {candidate: count for candidate, count in Ck.items() \n",
    "                  if count / self.transaction_count >= self.min_support}\n",
    "            \n",
    "            if not Fk:\n",
    "                break\n",
    "\n",
    "            self.frequent_itemsets[k] = Fk\n",
    "            print(f\"Frequent {k}-itemsets: {Fk}\")\n",
    "            k += 1\n",
    "\n",
    "        return self.frequent_itemsets\n",
    "\n",
    "    def generate_rules(self):\n",
    "        \"\"\"Generate association rules from frequent itemsets\"\"\"\n",
    "        print(\"\\nGenerating Association Rules...\")\n",
    "        for k, itemsets in self.frequent_itemsets.items():\n",
    "            if k < 2:  # No rules for 1-itemsets\n",
    "                continue\n",
    "            for itemset, count in itemsets.items():\n",
    "                itemset_support = count / self.transaction_count\n",
    "                subsets = self._get_subsets(itemset)\n",
    "\n",
    "                for antecedent in subsets:\n",
    "                    consequent = tuple(set(itemset) - set(antecedent))\n",
    "                    if not consequent:\n",
    "                        continue\n",
    "\n",
    "                    antecedent_support = self._get_support(antecedent)\n",
    "                    confidence = itemset_support / antecedent_support\n",
    "\n",
    "                    if confidence >= self.min_confidence:\n",
    "                        consequent_support = self._get_support(consequent)\n",
    "                        lift = confidence / consequent_support\n",
    "                        self.rules.append({\n",
    "                            'antecedent': antecedent,\n",
    "                            'consequent': consequent,\n",
    "                            'support': itemset_support,\n",
    "                            'confidence': confidence,\n",
    "                            'lift': lift\n",
    "                        })\n",
    "\n",
    "        print(f\"Total Rules Generated: {len(self.rules)}\")\n",
    "        return self.rules\n",
    "\n",
    "    def _get_subsets(self, itemset):\n",
    "        \"\"\"Generate all non-empty subsets of an itemset\"\"\"\n",
    "        subsets = []\n",
    "        itemset = list(itemset)\n",
    "        for i in range(1, 1 << len(itemset)):  # Binary combinations\n",
    "            subset = [itemset[j] for j in range(len(itemset)) if (i & (1 << j))]\n",
    "            if subset and len(subset) < len(itemset):\n",
    "                subsets.append(tuple(subset))\n",
    "        return subsets\n"
   ]
  },
  {
   "cell_type": "code",
   "execution_count": 3,
   "id": "31c62260",
   "metadata": {},
   "outputs": [
    {
     "name": "stdout",
     "output_type": "stream",
     "text": [
      "Frequent 1-itemsets: {('B',): 4, ('E',): 4, ('D',): 4, ('X',): 4, ('W',): 4, ('O',): 3}\n",
      "Frequent 2-itemsets: {('B', 'E'): 3, ('B', 'D'): 2, ('O', 'W'): 3}\n"
     ]
    }
   ],
   "source": [
    "# Run the SimpleApriori algorithm\n",
    "apriori = SimpleApriori(min_support=0.2, min_confidence=0.5)  # Minimum support of 20%, confidence 50%\n",
    "frequent_itemsets = apriori.find_frequent_itemsets()\n"
   ]
  },
  {
   "cell_type": "code",
   "execution_count": 4,
   "id": "b89ce508",
   "metadata": {},
   "outputs": [
    {
     "name": "stdout",
     "output_type": "stream",
     "text": [
      "\n",
      "Generating Association Rules...\n",
      "Total Rules Generated: 6\n"
     ]
    }
   ],
   "source": [
    "# Generate association rules\n",
    "rules = apriori.generate_rules()"
   ]
  },
  {
   "cell_type": "code",
   "execution_count": 5,
   "id": "a348be34",
   "metadata": {},
   "outputs": [
    {
     "name": "stdout",
     "output_type": "stream",
     "text": [
      "\n",
      "Frequent Itemsets:\n",
      "1-itemsets:\n",
      "  ('B',): Support = 0.40\n",
      "  ('E',): Support = 0.40\n",
      "  ('D',): Support = 0.40\n",
      "  ('X',): Support = 0.40\n",
      "  ('W',): Support = 0.40\n",
      "  ('O',): Support = 0.30\n",
      "2-itemsets:\n",
      "  ('B', 'E'): Support = 0.30\n",
      "  ('B', 'D'): Support = 0.20\n",
      "  ('O', 'W'): Support = 0.30\n"
     ]
    }
   ],
   "source": [
    "# Print frequent itemsets\n",
    "print(\"\\nFrequent Itemsets:\")\n",
    "for k, itemsets in frequent_itemsets.items():\n",
    "    print(f\"{k}-itemsets:\")\n",
    "    for items, count in itemsets.items():\n",
    "        support = count / apriori.transaction_count\n",
    "        print(f\"  {items}: Support = {support:.2f}\")"
   ]
  },
  {
   "cell_type": "code",
   "execution_count": 6,
   "id": "dde58cb0",
   "metadata": {},
   "outputs": [
    {
     "name": "stdout",
     "output_type": "stream",
     "text": [
      "\n",
      "Top Association Rules:\n",
      "Rule 1: {O} => {W}\n",
      "   Support: 0.30, Confidence: 1.00, Lift: 2.50\n",
      "Rule 2: {B} => {E}\n",
      "   Support: 0.30, Confidence: 0.75, Lift: 1.87\n",
      "Rule 3: {E} => {B}\n",
      "   Support: 0.30, Confidence: 0.75, Lift: 1.87\n",
      "Rule 4: {W} => {O}\n",
      "   Support: 0.30, Confidence: 0.75, Lift: 2.50\n",
      "Rule 5: {B} => {D}\n",
      "   Support: 0.20, Confidence: 0.50, Lift: 1.25\n"
     ]
    }
   ],
   "source": [
    "# Print top rules by confidence\n",
    "print(\"\\nTop Association Rules:\")\n",
    "sorted_rules = sorted(rules, key=lambda x: x['confidence'], reverse=True)\n",
    "for idx, rule in enumerate(sorted_rules[:5]):\n",
    "    antecedent = ', '.join(rule['antecedent'])\n",
    "    consequent = ', '.join(rule['consequent'])\n",
    "    print(f\"Rule {idx + 1}: {{{antecedent}}} => {{{consequent}}}\")\n",
    "    print(f\"   Support: {rule['support']:.2f}, Confidence: {rule['confidence']:.2f}, Lift: {rule['lift']:.2f}\")"
   ]
  },
  {
   "cell_type": "code",
   "execution_count": null,
   "id": "c83cff0a",
   "metadata": {},
   "outputs": [],
   "source": []
  }
 ],
 "metadata": {
  "kernelspec": {
   "display_name": "Python 3 (ipykernel)",
   "language": "python",
   "name": "python3"
  },
  "language_info": {
   "codemirror_mode": {
    "name": "ipython",
    "version": 3
   },
   "file_extension": ".py",
   "mimetype": "text/x-python",
   "name": "python",
   "nbconvert_exporter": "python",
   "pygments_lexer": "ipython3",
   "version": "3.9.13"
  }
 },
 "nbformat": 4,
 "nbformat_minor": 5
}
