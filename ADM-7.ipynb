{
 "cells": [
  {
   "cell_type": "code",
   "execution_count": 1,
   "id": "e9919595",
   "metadata": {},
   "outputs": [],
   "source": [
    "import numpy as np\n",
    "from collections import Counter\n",
    "\n"
   ]
  },
  {
   "cell_type": "code",
   "execution_count": 2,
   "id": "e11a4e73",
   "metadata": {},
   "outputs": [],
   "source": [
    "# Step 1: Training data\n",
    "data = [\n",
    "    {\"name\": 1, \"acid\": 7, \"strength\": 7, \"class\": \"Bad\"},\n",
    "    {\"name\": 2, \"acid\": 4, \"strength\": 4, \"class\": \"Bad\"},\n",
    "    {\"name\": 3, \"acid\": 3, \"strength\": 4, \"class\": \"Good\"},\n",
    "    {\"name\": 4, \"acid\": 1, \"strength\": 1, \"class\": \"Good\"}\n",
    "]\n"
   ]
  },
  {
   "cell_type": "code",
   "execution_count": 3,
   "id": "3ddb64d1",
   "metadata": {},
   "outputs": [],
   "source": [
    "\n",
    "# Step 2: Test point\n",
    "test_point = [3, 7]\n",
    "\n"
   ]
  },
  {
   "cell_type": "code",
   "execution_count": 4,
   "id": "6f00600f",
   "metadata": {},
   "outputs": [],
   "source": [
    "# Step 3: Euclidean distance function\n",
    "def euclidean(p1, p2):\n",
    "    return np.sqrt((p1[0] - p2[0])**2 + (p1[1] - p2[1])**2)\n",
    "\n"
   ]
  },
  {
   "cell_type": "code",
   "execution_count": 5,
   "id": "c2e29737",
   "metadata": {},
   "outputs": [],
   "source": [
    "# Step 4: Calculate distance from test_point to each data point\n",
    "distances = []\n",
    "for row in data:\n",
    "    dist = euclidean(test_point, [row[\"acid\"], row[\"strength\"]])\n",
    "    distances.append((dist, row[\"class\"]))\n",
    "\n"
   ]
  },
  {
   "cell_type": "code",
   "execution_count": 6,
   "id": "c8a78f6f",
   "metadata": {},
   "outputs": [],
   "source": [
    "# Step 5: Sort by distance\n",
    "distances.sort(key=lambda x: x[0])\n",
    "\n"
   ]
  },
  {
   "cell_type": "code",
   "execution_count": 7,
   "id": "6e7d0086",
   "metadata": {},
   "outputs": [
    {
     "name": "stdout",
     "output_type": "stream",
     "text": [
      "Top K Nearest Neighbors: [(3.0, 'Good'), (3.1622776601683795, 'Bad'), (4.0, 'Bad')]\n"
     ]
    }
   ],
   "source": [
    "# Step 6: Select top K (e.g., K=3)\n",
    "k = 3\n",
    "nearest_neighbors = distances[:k]\n",
    "print(\"Top K Nearest Neighbors:\", nearest_neighbors)\n",
    "\n"
   ]
  },
  {
   "cell_type": "code",
   "execution_count": 8,
   "id": "ed476376",
   "metadata": {},
   "outputs": [
    {
     "name": "stdout",
     "output_type": "stream",
     "text": [
      "Predicted Class for Test Point [3, 7] : Bad\n"
     ]
    }
   ],
   "source": [
    "# Step 7: Majority Vote\n",
    "classes = [label for _, label in nearest_neighbors]\n",
    "predicted_class = Counter(classes).most_common(1)[0][0]\n",
    "print(\"Predicted Class for Test Point\", test_point, \":\", predicted_class)\n"
   ]
  },
  {
   "cell_type": "code",
   "execution_count": null,
   "id": "8f6078a1",
   "metadata": {},
   "outputs": [],
   "source": []
  }
 ],
 "metadata": {
  "kernelspec": {
   "display_name": "Python 3 (ipykernel)",
   "language": "python",
   "name": "python3"
  },
  "language_info": {
   "codemirror_mode": {
    "name": "ipython",
    "version": 3
   },
   "file_extension": ".py",
   "mimetype": "text/x-python",
   "name": "python",
   "nbconvert_exporter": "python",
   "pygments_lexer": "ipython3",
   "version": "3.9.13"
  }
 },
 "nbformat": 4,
 "nbformat_minor": 5
}
