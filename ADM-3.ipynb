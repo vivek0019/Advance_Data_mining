{
 "cells": [
  {
   "cell_type": "code",
   "execution_count": 13,
   "id": "2de374db",
   "metadata": {},
   "outputs": [],
   "source": [
    "import re\n",
    "from collections import defaultdict\n",
    "import math\n",
    "\n"
   ]
  },
  {
   "cell_type": "code",
   "execution_count": 14,
   "id": "541e0360",
   "metadata": {},
   "outputs": [],
   "source": [
    "# Step 1: Sample dataset\n",
    "data = [\n",
    "    (\"I loved the movie\", \"positive\"),\n",
    "    (\"I hated the movie\", \"negative\"),\n",
    "    (\"A great movie , good movie\", \"positive\"),\n",
    "    (\"poor acting\", \"negative\"),\n",
    "    (\"great acting a good movie\", \"positive\")\n",
    "]\n",
    "\n"
   ]
  },
  {
   "cell_type": "code",
   "execution_count": 15,
   "id": "fc80ec67",
   "metadata": {},
   "outputs": [],
   "source": [
    "# Step 2: Tokenization\n",
    "def tokenize(text):\n",
    "    return re.findall(r'\\b\\w+\\b', text.lower())\n"
   ]
  },
  {
   "cell_type": "code",
   "execution_count": 16,
   "id": "7912ac84",
   "metadata": {},
   "outputs": [],
   "source": [
    "# Step 3: Vocabulary & counts\n",
    "vocab = set()\n",
    "word_counts = {'positive': defaultdict(int), 'negative': defaultdict(int)}\n",
    "class_word_totals = {'positive': 0, 'negative': 0}\n",
    "class_counts = {'positive': 0, 'negative': 0}\n",
    "\n",
    "for sentence, label in data:\n",
    "    tokens = tokenize(sentence)\n",
    "    class_counts[label] += 1\n",
    "    class_word_totals[label] += len(tokens)\n",
    "    for token in tokens:\n",
    "        word_counts[label][token] += 1\n",
    "        vocab.add(token)\n",
    "\n",
    "vocab_size = len(vocab)\n",
    "\n"
   ]
  },
  {
   "cell_type": "code",
   "execution_count": 17,
   "id": "9f8d1f97",
   "metadata": {},
   "outputs": [],
   "source": [
    "# Step 4: Probability calculation for a new test sentence\n",
    "def calculate_class_probability(test_tokens, label):\n",
    "    total_words = class_word_totals[label]\n",
    "    prior = class_counts[label] / sum(class_counts.values())\n",
    "    print(f\"\\nClass: {label.upper()}\")\n",
    "    print(f\"P({label}) = {prior:.4f}\")\n",
    "    \n",
    "    product = math.log(prior)  # use log to prevent underflow\n",
    "    for word in test_tokens:\n",
    "        count = word_counts[label][word]\n",
    "        prob = (count + 1) / (total_words + vocab_size)\n",
    "        product += math.log(prob)\n",
    "        print(f\"P({word}|{label}) = ({count}+1)/({total_words}+{vocab_size}) = {prob:.4f}\")\n",
    "\n",
    "    return product\n"
   ]
  },
  {
   "cell_type": "code",
   "execution_count": 18,
   "id": "3e481221",
   "metadata": {},
   "outputs": [],
   "source": [
    "# Step 5: Predict Function\n",
    "def predict(sentence):\n",
    "    print(f\"\\nInput Sentence: \\\"{sentence}\\\"\\n\" + \"-\"*50)\n",
    "    tokens = tokenize(sentence)\n",
    "    pos_score = calculate_class_probability(tokens, 'positive')\n",
    "    neg_score = calculate_class_probability(tokens, 'negative')\n",
    "\n",
    "    print(f\"\\nLog(P(+|doc)) = {pos_score:.6f}\")\n",
    "    print(f\"Log(P(-|doc)) = {neg_score:.6f}\")\n",
    "\n",
    "    predicted_class = 'positive' if pos_score > neg_score else 'negative'\n",
    "    print(f\"\\n→ Predicted Class: {predicted_class.upper()}\")\n",
    "    return predicted_class"
   ]
  },
  {
   "cell_type": "code",
   "execution_count": 19,
   "id": "5cc3c50c",
   "metadata": {},
   "outputs": [
    {
     "name": "stdout",
     "output_type": "stream",
     "text": [
      "\n",
      "Input Sentence: \"I hated the poor activity\"\n",
      "--------------------------------------------------\n",
      "\n",
      "Class: POSITIVE\n",
      "P(positive) = 0.6000\n",
      "P(i|positive) = (1+1)/(14+10) = 0.0833\n",
      "P(hated|positive) = (0+1)/(14+10) = 0.0417\n",
      "P(the|positive) = (1+1)/(14+10) = 0.0833\n",
      "P(poor|positive) = (0+1)/(14+10) = 0.0417\n",
      "P(activity|positive) = (0+1)/(14+10) = 0.0417\n",
      "\n",
      "Class: NEGATIVE\n",
      "P(negative) = 0.4000\n",
      "P(i|negative) = (1+1)/(6+10) = 0.1250\n",
      "P(hated|negative) = (1+1)/(6+10) = 0.1250\n",
      "P(the|negative) = (1+1)/(6+10) = 0.1250\n",
      "P(poor|negative) = (1+1)/(6+10) = 0.1250\n",
      "P(activity|negative) = (0+1)/(6+10) = 0.0625\n",
      "\n",
      "Log(P(+|doc)) = -15.014800\n",
      "Log(P(-|doc)) = -12.006646\n",
      "\n",
      "→ Predicted Class: NEGATIVE\n"
     ]
    },
    {
     "data": {
      "text/plain": [
       "'negative'"
      ]
     },
     "execution_count": 19,
     "metadata": {},
     "output_type": "execute_result"
    }
   ],
   "source": [
    "# Step 6: Run Prediction\n",
    "test_sentence = \"I hated the poor activity\"\n",
    "predict(test_sentence)\n"
   ]
  },
  {
   "cell_type": "code",
   "execution_count": null,
   "id": "c20b6c04",
   "metadata": {},
   "outputs": [],
   "source": []
  }
 ],
 "metadata": {
  "kernelspec": {
   "display_name": "Python 3 (ipykernel)",
   "language": "python",
   "name": "python3"
  },
  "language_info": {
   "codemirror_mode": {
    "name": "ipython",
    "version": 3
   },
   "file_extension": ".py",
   "mimetype": "text/x-python",
   "name": "python",
   "nbconvert_exporter": "python",
   "pygments_lexer": "ipython3",
   "version": "3.9.13"
  }
 },
 "nbformat": 4,
 "nbformat_minor": 5
}
