{
 "cells": [
  {
   "cell_type": "code",
   "execution_count": 10,
   "id": "9f6afc06",
   "metadata": {},
   "outputs": [],
   "source": [
    "import math\n",
    "from collections import Counter\n",
    "\n"
   ]
  },
  {
   "cell_type": "code",
   "execution_count": 11,
   "id": "d5f04d4a",
   "metadata": {},
   "outputs": [],
   "source": [
    "# Step 1: Dataset\n",
    "data = [\n",
    "    {'loan': 'Yes', 'tax': 'Yes', 'class': 'Positive'},\n",
    "    {'loan': 'No',  'tax': 'Yes', 'class': 'Negative'},\n",
    "    {'loan': 'Yes', 'tax': 'No',  'class': 'Positive'},\n",
    "    {'loan': 'Yes', 'tax': 'Yes', 'class': 'Positive'},\n",
    "    {'loan': 'No',  'tax': 'No',  'class': 'Negative'},\n",
    "    {'loan': 'No',  'tax': 'Yes', 'class': 'Negative'},\n",
    "    {'loan': 'Yes', 'tax': 'No',  'class': 'Positive'},\n",
    "    {'loan': 'No',  'tax': 'No',  'class': 'Negative'},\n",
    "    {'loan': 'Yes', 'tax': 'Yes', 'class': 'Positive'},\n",
    "]\n",
    "\n",
    "\n"
   ]
  },
  {
   "cell_type": "code",
   "execution_count": 12,
   "id": "703081a7",
   "metadata": {},
   "outputs": [],
   "source": [
    "# Step 2: Entropy\n",
    "def entropy(subset):\n",
    "    total = len(subset)\n",
    "    class_counts = Counter(row['class'] for row in subset)\n",
    "    ent = 0\n",
    "    for count in class_counts.values():\n",
    "        p = count / total\n",
    "        ent -= p * math.log2(p)\n",
    "    return ent\n",
    "\n"
   ]
  },
  {
   "cell_type": "code",
   "execution_count": 13,
   "id": "678b8cc7",
   "metadata": {},
   "outputs": [],
   "source": [
    "# Step 3: Information Gain\n",
    "def information_gain(data, attribute):\n",
    "    total_entropy = entropy(data)\n",
    "    values = set(row[attribute] for row in data)\n",
    "    weighted_entropy = 0\n",
    "    for value in values:\n",
    "        subset = [row for row in data if row[attribute] == value]\n",
    "        weighted_entropy += len(subset) / len(data) * entropy(subset)\n",
    "    return total_entropy - weighted_entropy\n",
    "\n"
   ]
  },
  {
   "cell_type": "code",
   "execution_count": 18,
   "id": "bb3cf915",
   "metadata": {},
   "outputs": [],
   "source": [
    "# Step 4: ID3 Algorithm with clear root node selection\n",
    "def id3(data, features, depth=0):\n",
    "    classes = [row['class'] for row in data]\n",
    "\n",
    "    if classes.count(classes[0]) == len(classes):\n",
    "        return classes[0]\n",
    "\n",
    "    if not features:\n",
    "        return Counter(classes).most_common(1)[0][0]\n",
    "\n",
    "    # Choose the attribute with the highest info gain\n",
    "    gains = {attr: information_gain(data, attr) for attr in features}\n",
    "    best_attr = max(gains, key=gains.get)\n",
    "\n",
    "    if depth == 0:\n",
    "        print(f\" Root Node Selected: {best_attr} (Info Gain = {gains[best_attr]:.4f})\")\n",
    "\n",
    "    tree = {best_attr: {}}\n",
    "    for value in set(row[best_attr] for row in data):\n",
    "        subset = [row for row in data if row[best_attr] == value]\n",
    "        if not subset:\n",
    "            tree[best_attr][value] = Counter(classes).most_common(1)[0][0]\n",
    "        else:\n",
    "            remaining_features = [f for f in features if f != best_attr]\n",
    "            tree[best_attr][value] = id3(subset, remaining_features, depth+1)\n",
    "    return tree\n",
    "\n"
   ]
  },
  {
   "cell_type": "code",
   "execution_count": 19,
   "id": "d8ed276f",
   "metadata": {},
   "outputs": [],
   "source": [
    "# Step 5: Prediction\n",
    "def predict(tree, sample):\n",
    "    if isinstance(tree, str):\n",
    "        return tree\n",
    "    attr = next(iter(tree))\n",
    "    val = sample.get(attr)\n",
    "    subtree = tree[attr].get(val)\n",
    "    if not subtree:\n",
    "        return 'Unknown'\n",
    "    return predict(subtree, sample)\n"
   ]
  },
  {
   "cell_type": "code",
   "execution_count": 20,
   "id": "ac4be541",
   "metadata": {},
   "outputs": [
    {
     "name": "stdout",
     "output_type": "stream",
     "text": [
      " Root Node Selected: loan (Info Gain = 0.9911)\n",
      "\n",
      " Final Decision Tree:\n",
      "{'loan': {'No': 'Negative', 'Yes': 'Positive'}}\n",
      "\n",
      " Performance:\n",
      "Accuracy: 1.00\n",
      "Precision: 1.00\n",
      "Recall: 1.00\n",
      "F1-Score: 1.00\n"
     ]
    }
   ],
   "source": [
    "# Step 6: Evaluation\n",
    "def evaluate(tree, test_data):\n",
    "    TP = TN = FP = FN = 0\n",
    "    for row in test_data:\n",
    "        pred = predict(tree, row)\n",
    "        actual = row['class']\n",
    "        if pred == 'Positive' and actual == 'Positive': TP += 1\n",
    "        elif pred == 'Negative' and actual == 'Negative': TN += 1\n",
    "        elif pred == 'Positive' and actual == 'Negative': FP += 1\n",
    "        elif pred == 'Negative' and actual == 'Positive': FN += 1\n",
    "    accuracy = (TP + TN) / len(test_data)\n",
    "    precision = TP / (TP + FP) if (TP + FP) else 0\n",
    "    recall = TP / (TP + FN) if (TP + FN) else 0\n",
    "    f1 = 2 * precision * recall / (precision + recall) if (precision + recall) else 0\n",
    "    return accuracy, precision, recall, f1\n",
    "\n",
    "# Run the full process\n",
    "features = ['loan', 'tax']\n",
    "tree = id3(data, features)\n",
    "acc, prec, rec, f1 = evaluate(tree, data)\n",
    "\n",
    "# Print tree and metrics\n",
    "import pprint\n",
    "print(\"\\n Final Decision Tree:\")\n",
    "pprint.pprint(tree)\n",
    "print(f\"\\n Performance:\\nAccuracy: {acc:.2f}\\nPrecision: {prec:.2f}\\nRecall: {rec:.2f}\\nF1-Score: {f1:.2f}\")\n"
   ]
  },
  {
   "cell_type": "code",
   "execution_count": null,
   "id": "e3adc76e",
   "metadata": {},
   "outputs": [],
   "source": []
  }
 ],
 "metadata": {
  "kernelspec": {
   "display_name": "Python 3 (ipykernel)",
   "language": "python",
   "name": "python3"
  },
  "language_info": {
   "codemirror_mode": {
    "name": "ipython",
    "version": 3
   },
   "file_extension": ".py",
   "mimetype": "text/x-python",
   "name": "python",
   "nbconvert_exporter": "python",
   "pygments_lexer": "ipython3",
   "version": "3.9.13"
  }
 },
 "nbformat": 4,
 "nbformat_minor": 5
}
